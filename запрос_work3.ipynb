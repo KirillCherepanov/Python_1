{
 "cells": [
  {
   "cell_type": "code",
   "execution_count": 86,
   "metadata": {},
   "outputs": [],
   "source": [
    "import json\n",
    "import requests\n",
    "import urllib.parse\n",
    "base_url = 'https://itunes.apple.com/search'\n",
    "\n",
    "artist = 'Nirvana'\n",
    "\n",
    "params = {\n",
    "    'term': artist,\n",
    "    'limit': 112,\n",
    "    'media': 'music',\n",
    "    'entity': 'song',\n",
    "    'attribute': 'artistTerm'\n",
    "}\n",
    "\n",
    "response = requests.get(f\"{base_url}?{urllib.parse.urlencode(params)}\")\n",
    "\n",
    "data = json.loads(response.text)\n",
    "data = data['results']"
   ]
  },
  {
   "cell_type": "code",
   "execution_count": 87,
   "metadata": {},
   "outputs": [
    {
     "name": "stdout",
     "output_type": "stream",
     "text": [
      "['wrapperType', 'kind', 'artistId', 'collectionId', 'trackId', 'artistName', 'collectionName', 'trackName', 'collectionCensoredName', 'trackCensoredName', 'artistViewUrl', 'collectionViewUrl', 'trackViewUrl', 'previewUrl', 'artworkUrl30', 'artworkUrl60', 'artworkUrl100', 'collectionPrice', 'trackPrice', 'releaseDate', 'collectionExplicitness', 'trackExplicitness', 'discCount', 'discNumber', 'trackCount', 'trackNumber', 'trackTimeMillis', 'country', 'currency', 'primaryGenreName', 'isStreamable']\n"
     ]
    }
   ],
   "source": [
    "# Все доступные ключи объекта\n",
    "print(list(data[0].keys()))"
   ]
  },
  {
   "cell_type": "code",
   "execution_count": 88,
   "metadata": {},
   "outputs": [
    {
     "name": "stdout",
     "output_type": "stream",
     "text": [
      "['artistId', 'collectionId', 'trackId', 'artistName', 'collectionName', 'trackName', 'collectionPrice', 'trackPrice', 'releaseDate', 'collectionExplicitness', 'trackExplicitness', 'discCount', 'discNumber', 'trackCount', 'trackNumber', 'trackTimeMillis', 'country', 'currency', 'primaryGenreName', 'isStreamable']\n"
     ]
    }
   ],
   "source": [
    "import dateutil.parser\n",
    "\n",
    "# Преобразование строки с датой в объект даты\n",
    "# **x - скопировать все поля из объекта x\n",
    "data = map(lambda x: {**x, 'releaseDate': dateutil.parser.isoparse(x['releaseDate'])}, data)\n",
    "data = list(data)\n",
    "# Убираем лишние поля\n",
    "data = map(lambda x: {\n",
    "    'artistId': x['artistId'],\n",
    "    'collectionId': x['collectionId'],\n",
    "    'trackId': x['trackId'],\n",
    "    'artistName': x['artistName'],\n",
    "    'collectionName': x['collectionCensoredName'],\n",
    "    'trackName': x['trackCensoredName'],\n",
    "    'collectionPrice': x['collectionPrice'],\n",
    "    'trackPrice': x['trackPrice'],\n",
    "    'releaseDate': x['releaseDate'],\n",
    "    'collectionExplicitness': x['collectionExplicitness'],\n",
    "    'trackExplicitness': x['trackExplicitness'],\n",
    "    'discCount': x['discCount'],\n",
    "    'discNumber': x['discNumber'],\n",
    "    'trackCount': x['trackCount'],\n",
    "    'trackNumber': x['trackNumber'],\n",
    "    'trackTimeMillis': x['trackTimeMillis'],\n",
    "    'country': x['country'],\n",
    "    'currency': x['currency'],\n",
    "    'primaryGenreName': x['primaryGenreName'],\n",
    "    'isStreamable': x['isStreamable']\n",
    "}, data)\n",
    "data = list(data)\n",
    "print(list(data[0].keys()))"
   ]
  },
  {
   "cell_type": "code",
   "execution_count": 89,
   "metadata": {},
   "outputs": [],
   "source": [
    "def convert_millis(millis: int) -> str:\n",
    "    total_seconds = millis // 1000\n",
    "    seconds = total_seconds % 60\n",
    "    minutes = (total_seconds // 60) % 60\n",
    "    hours = (total_seconds // (60 * 60))\n",
    "    return f\"{hours}H{minutes}M{seconds}S\""
   ]
  },
  {
   "cell_type": "code",
   "execution_count": 90,
   "metadata": {},
   "outputs": [
    {
     "name": "stdout",
     "output_type": "stream",
     "text": [
      "{'Nirvana'}\n"
     ]
    }
   ],
   "source": [
    "print(set(map(lambda x: x['artistName'], data)))"
   ]
  },
  {
   "cell_type": "code",
   "execution_count": 91,
   "metadata": {},
   "outputs": [
    {
     "name": "stdout",
     "output_type": "stream",
     "text": [
      "First song: About a Girl 1989-06-15 07:00:00+00:00\n",
      "Last song: All Apologies (Live & Loud) 2013-09-23 12:00:00+00:00\n"
     ]
    }
   ],
   "source": [
    "# Фильтрация с целью оставить искомого артиста\n",
    "data = filter(lambda x: artist.lower() in x['artistName'].lower(), data)\n",
    "data = list(data)\n",
    "release_date_extractor = lambda x: x['releaseDate']\n",
    "\n",
    "first_song = min(data, key=release_date_extractor)\n",
    "\n",
    "print('First song:', first_song['trackName'], first_song['releaseDate'])\n",
    "\n",
    "latest_song = max(data, key=release_date_extractor)\n",
    "\n",
    "print('Last song:', latest_song['trackName'], latest_song['releaseDate'])"
   ]
  },
  {
   "cell_type": "code",
   "execution_count": 92,
   "metadata": {},
   "outputs": [
    {
     "name": "stdout",
     "output_type": "stream",
     "text": [
      "Count of songs: 112\n"
     ]
    }
   ],
   "source": [
    "Count = lambda x: x['trackName']\n",
    "Count_Of_Songs = len(list(map(Count, data)))\n",
    "print('Count of songs:' ,Count_Of_Songs)"
   ]
  },
  {
   "cell_type": "code",
   "execution_count": 93,
   "metadata": {},
   "outputs": [
    {
     "name": "stdout",
     "output_type": "stream",
     "text": [
      "Most popular genre: Alternative - 104\n"
     ]
    }
   ],
   "source": [
    "Genre = lambda x: x['primaryGenreName']\n",
    "Popular_Genre = (list((map(Genre, data))))\n",
    "if Popular_Genre.count('Grunge') > Popular_Genre.count('Alternative'):\n",
    "    print('Most popular genre:','Grunge -', Popular_Genre.count('Grunge'))\n",
    "if Popular_Genre.count('Rock') > Popular_Genre.count('Alternative'):\n",
    "    print('Most popular genre:','Rock -', Popular_Genre.count('Rock'))\n",
    "else:\n",
    "    print('Most popular genre:','Alternative -', Popular_Genre.count('Alternative'))"
   ]
  },
  {
   "cell_type": "code",
   "execution_count": 94,
   "metadata": {},
   "outputs": [
    {
     "name": "stdout",
     "output_type": "stream",
     "text": [
      "Album count: 11\n"
     ]
    }
   ],
   "source": [
    "Album = lambda x: x['collectionId']\n",
    "Album_count = len(list(set(map(Album, data))))\n",
    "print('Album count:', Album_count)"
   ]
  },
  {
   "cell_type": "code",
   "execution_count": 95,
   "metadata": {},
   "outputs": [
    {
     "name": "stdout",
     "output_type": "stream",
     "text": [
      "Duration of songs: 6H24M4S\n",
      "Average duration of songs: 0.0H3.0M25.0S\n",
      "Mediana of songs: 0.0H3.0M32.0S\n",
      "Longest song: Endless, Nameless 0H6M42S\n",
      "Shortest song: Intro (Live at Pine Street Theatre) 0H0M52S\n"
     ]
    }
   ],
   "source": [
    "time_extractor = lambda x: x['trackTimeMillis']\n",
    "\n",
    "Duration_of_songs = sum(list(map(time_extractor, data)))\n",
    "print('Duration of songs:', convert_millis(Duration_of_songs))\n",
    "\n",
    "Average_duration = Duration_of_songs / Count_Of_Songs\n",
    "print('Average duration of songs:', convert_millis(Average_duration))\n",
    "\n",
    "Median_time = list(map(time_extractor, data))\n",
    "import statistics\n",
    "print('Mediana of songs:', convert_millis(statistics.median(Median_time)))\n",
    "\n",
    "longest_song = max(data, key=time_extractor)\n",
    "print('Longest song:', longest_song['trackName'], convert_millis(longest_song['trackTimeMillis']))\n",
    "\n",
    "shortest_song = min(data, key=time_extractor)\n",
    "print('Shortest song:', shortest_song['trackName'], convert_millis(shortest_song['trackTimeMillis']))"
   ]
  },
  {
   "cell_type": "code",
   "execution_count": 96,
   "metadata": {},
   "outputs": [
    {
     "name": "stdout",
     "output_type": "stream",
     "text": [
      "Price of all songs: 134.27999999999997 $\n",
      "Average price of songs: 1.1989285714285711 $\n",
      "Median of songs cost: 1.29 $\n",
      "Expensive song: Smells Like Teen Spirit 1.29 $\n",
      "Cheap song: About a Girl 0.99 $\n"
     ]
    }
   ],
   "source": [
    "Song_cost = lambda x: x['trackPrice']\n",
    "\n",
    "All_price = sum(list(map(Song_cost, data)))\n",
    "print('Price of all songs:', All_price, '$')\n",
    "\n",
    "Average_price = All_price / Count_Of_Songs\n",
    "print('Average price of songs:', Average_price, '$')\n",
    "\n",
    "Median_cost = list(map(Song_cost, data))\n",
    "import statistics\n",
    "print('Median of songs cost:', statistics.median(Median_cost), '$')\n",
    "\n",
    "Expensive_song = max(data, key=Song_cost)\n",
    "print('Expensive song:', Expensive_song['trackName'], Expensive_song['trackPrice'],'$')\n",
    "\n",
    "Cheap_song = min(data, key=Song_cost)\n",
    "if Cheap_song['trackPrice'] == -1 : \n",
    "    print('Cheap song:', Cheap_song['trackName'],'Free')\n",
    "else:\n",
    "    print('Cheap song:', Cheap_song['trackName'], Cheap_song['trackPrice'], '$')"
   ]
  },
  {
   "cell_type": "code",
   "execution_count": 98,
   "metadata": {},
   "outputs": [
    {
     "name": "stdout",
     "output_type": "stream",
     "text": [
      "{28436515: 'Lithium (Acoustic Version) - Single', 669728060: 'Bleach', 1413920644: 'Nirvana', 1440778637: 'Sliver: The Best of the Box', 1440783617: 'Nevermind', 1440797324: 'Live at Reading', 1440830905: 'In Utero', 1440833316: 'With the Lights Out', 1440858699: 'In Utero (20th Anniversary Edition)', 1440892370: 'MTV Unplugged In New York (Live Acoustic)', 1445283308: 'Lithium - Single'}\n"
     ]
    }
   ],
   "source": [
    "from itertools import groupby\n",
    "\n",
    "collection_id_extractor = lambda x: x['collectionId']\n",
    "\n",
    "sorted_by_album = sorted(data, key=collection_id_extractor)\n",
    "album_groups = {}\n",
    "album_names = {}\n",
    "\n",
    "for album_id, songs in groupby(sorted_by_album, key=collection_id_extractor):\n",
    "    songs = list(songs)\n",
    "    album_groups[album_id] = songs \n",
    "    album_names[album_id] = songs[0]['collectionName']\n",
    "del sorted_by_album\n",
    "\n",
    "print(album_names)"
   ]
  },
  {
   "cell_type": "code",
   "execution_count": 101,
   "metadata": {},
   "outputs": [
    {
     "name": "stdout",
     "output_type": "stream",
     "text": [
      "Album name: Live at Reading\n"
     ]
    }
   ],
   "source": [
    "Album_name = album_names[1440797324]\n",
    "print('Album name:', Album_name)"
   ]
  },
  {
   "cell_type": "code",
   "execution_count": 102,
   "metadata": {},
   "outputs": [
    {
     "name": "stdout",
     "output_type": "stream",
     "text": [
      "Count of songs: 24\n"
     ]
    }
   ],
   "source": [
    "Album_value = list(album_groups[1440797324])\n",
    "\n",
    "Count = lambda x: x['trackId']\n",
    "Count_Of_Album_Songs = len(list(set(map(Count, Album_value))))\n",
    "print('Count of songs:', Count_Of_Album_Songs)"
   ]
  },
  {
   "cell_type": "code",
   "execution_count": 104,
   "metadata": {},
   "outputs": [
    {
     "name": "stdout",
     "output_type": "stream",
     "text": [
      "Most popular genre: Alternative - 24\n"
     ]
    }
   ],
   "source": [
    "Genre = lambda x: x['primaryGenreName']\n",
    "Popular_Genre = (list((map(Genre, Album_value))))\n",
    "if Popular_Genre.count('Grunge') > Popular_Genre.count('Alternative'):\n",
    "    print('Most popular genre:','Grunge -', Popular_Genre.count('Grunge'))\n",
    "if Popular_Genre.count('Rock') > Popular_Genre.count('Alternative'):\n",
    "    print('Most popular genre:','Rock -', Popular_Genre.count('Rock'))\n",
    "else:\n",
    "    print('Most popular genre:','Alternative -', Popular_Genre.count('Alternative'))"
   ]
  },
  {
   "cell_type": "code",
   "execution_count": 105,
   "metadata": {},
   "outputs": [
    {
     "name": "stdout",
     "output_type": "stream",
     "text": [
      "Release date: Smells Like Teen Spirit (Live at Reading, 08/30/92) 2009-11-03 08:00:00+00:00\n"
     ]
    }
   ],
   "source": [
    "release_date_extractor = lambda x: x['releaseDate']\n",
    "\n",
    "Release_date = min(Album_value, key=release_date_extractor)\n",
    "print('Release date:', Release_date['trackName'], Release_date['releaseDate'])"
   ]
  },
  {
   "cell_type": "code",
   "execution_count": 106,
   "metadata": {},
   "outputs": [
    {
     "name": "stdout",
     "output_type": "stream",
     "text": [
      "Price of all songs: 28.559999999999985 $\n",
      "Average price of songs: 1.1899999999999993 $\n",
      "Median of songs cost: 1.29 $\n",
      "Expensive song: Smells Like Teen Spirit (Live at Reading, 08/30/92) 1.29 $\n",
      "Cheap song: The Money Will Roll Right In (Live at Reading, 08/30/92) 0.99 $\n"
     ]
    }
   ],
   "source": [
    "Album_Song_cost = lambda x: x['trackPrice']\n",
    "\n",
    "All_album_price = sum(list(map(Album_Song_cost, Album_value)))\n",
    "print('Price of all songs:', All_album_price, '$')\n",
    "\n",
    "Average_album_price = All_album_price / Count_Of_Album_Songs\n",
    "print('Average price of songs:', Average_album_price, '$')\n",
    "\n",
    "Median_album_cost = list(map(Album_Song_cost, Album_value))\n",
    "import statistics\n",
    "print('Median of songs cost:', statistics.median(Median_album_cost), '$')\n",
    "\n",
    "Expensive_album_song = max(Album_value, key=Album_Song_cost)\n",
    "print('Expensive song:', Expensive_album_song['trackName'], Expensive_album_song['trackPrice'],'$')\n",
    "\n",
    "Cheap_album_song = min(Album_value, key=Album_Song_cost)\n",
    "if Cheap_album_song['trackPrice'] == -1 : \n",
    "    print('Cheap song:', Cheap_album_song['trackName'],'Free')\n",
    "else:\n",
    "    print('Cheap song:', Cheap_album_song['trackName'], Cheap_album_song['trackPrice'], '$')"
   ]
  }
 ],
 "metadata": {
  "kernelspec": {
   "display_name": "Python 3.10.7 64-bit",
   "language": "python",
   "name": "python3"
  },
  "language_info": {
   "codemirror_mode": {
    "name": "ipython",
    "version": 3
   },
   "file_extension": ".py",
   "mimetype": "text/x-python",
   "name": "python",
   "nbconvert_exporter": "python",
   "pygments_lexer": "ipython3",
   "version": "3.10.7"
  },
  "orig_nbformat": 4,
  "vscode": {
   "interpreter": {
    "hash": "a9ba2379aa31e5456e1ad50d34783f8a17b1f0211fdf4fdbebdeca4f17df7db1"
   }
  }
 },
 "nbformat": 4,
 "nbformat_minor": 2
}
